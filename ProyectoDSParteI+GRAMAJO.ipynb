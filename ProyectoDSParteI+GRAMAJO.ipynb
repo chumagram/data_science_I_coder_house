{
  "cells": [
    {
      "cell_type": "markdown",
      "metadata": {},
      "source": [
        "# ***PRÁCTICO FINAL DE CIENCIA DE DATOS I - Coder House***\n",
        "Estudiante: **Gonzalo Leonel Gramajo**  \n",
        "Comisión: **74920**  \n",
        "Documento: **40441349**  \n",
        "Año: **2025**"
      ]
    },
    {
      "cell_type": "markdown",
      "metadata": {},
      "source": [
        "____________________________________________________________________________________________\n",
        "## **1. INTRODUCCIÓN Y OBJETIVO**"
      ]
    },
    {
      "cell_type": "markdown",
      "metadata": {
        "id": "iIpXt0uytTfw"
      },
      "source": [
        "Este notebook corresponde al trabajo final del curso \"Fundamentos de ciencia de datos\" de Coder House. Está basado en un dataset de ventas de autos rescatado desde Keegle. Este conjunto de datos incluye todas las entradas de vehículos usados ​​dentro de los Estados Unidos en Craigslist.com.\n",
        "Es importante resaltar que se cuenta con 426 mil lineas y el archivo ocupa 1.45 GB de almacenamiento, por lo que un archivo de tal tamaño no se peude subir a GitHub. Dado esto, el archivo .csv se puede encontrar disponible en Google Drive y obviamente, Kaggle.\n",
        "\n",
        "### **Dataset**\n",
        "Used Cars Dataset - Vehicles listings from Craigslist.org.  \n",
        "Enlace web a Kaggle: https://www.kaggle.com/datasets/austinreese/craigslist-carstrucks-data  \n",
        "Enlace web a Google Drive: https://drive.google.com/file/d/1uQ_YhqBimI46j5W-EgSwkjZvpFt87ejt/view?usp=sharing\n",
        "\n",
        "### **Objetivo**\n",
        "*Mediante el uso de algortimos de aprendizaje automático, lograr predecir el precio de venta de los vehículos según los datos de entrada odómetro (kilometraje), year (año de fabricación), transmission (trasmisión), fuel (combustible).*\n",
        "\n",
        "**Pasos para lograr el objetivo:**\n",
        "1.  **Introducción y Objetivo:** Definir el problema y el objetivo.\n",
        "2.  **Importar Librerías:** Cargar las herramientas necesarias.\n",
        "3.  **Carga de Datos:** Leer el dataset.\n",
        "4.  **Hipótesis:** Plantear una hipótesis clara.\n",
        "5.  **Análisis Exploratorio de Datos (EDA):** Entender los datos, distribuciones, valores faltantes y relaciones.\n",
        "6.  **Feature Engineering (Ingeniería de Características):** Crear nuevas características si es relevante.\n",
        "7.  **Preprocesamiento de Datos:** Preparar los datos para el modelo (manejo de categóricas, escalado).\n",
        "8.  **División de Datos:** Separar en conjuntos de entrenamiento y prueba.\n",
        "9.  **Construcción y Entrenamiento del Modelo:** Usar RandomForestClassifier.\n",
        "10. **Evaluación del Modelo:** Medir el rendimiento con métricas adecuadas.\n",
        "11. **Análisis de Importancia de Características:** Identificar qué variables son más influyentes.\n",
        "12. **Conclusiones:** Interpretar los resultados y validar/refutar la hipótesis."
      ]
    },
    {
      "cell_type": "markdown",
      "metadata": {},
      "source": [
        "___________________________________________________________________________________________\n",
        "## **2. IMPORTACIÓN DE MÓDULOS**"
      ]
    },
    {
      "cell_type": "markdown",
      "metadata": {},
      "source": [
        "Para cargar todos los módulos (herramientas) que se necesitan en el despliegue de todo el análisis y entrenamiento, se debe ejecutar el siguiente código:"
      ]
    },
    {
      "cell_type": "code",
      "execution_count": null,
      "metadata": {},
      "outputs": [],
      "source": [
        "# Herramientas principales\n",
        "import pandas as pd\n",
        "import numpy as np\n",
        "# Módulos de visualización\n",
        "import matplotlib.pyplot as plt\n",
        "import seaborn as sns"
      ]
    },
    {
      "cell_type": "markdown",
      "metadata": {
        "id": "rizCDcNeVwSv"
      },
      "source": [
        "___________________________________________________________________________________________\n",
        "## **3. CARGA DE DATOS**"
      ]
    },
    {
      "cell_type": "markdown",
      "metadata": {},
      "source": [
        "Para conseguir un dataframe de los datos que contiene el .csv del dataset rescatado, se debe ejecutar el siguiente código:"
      ]
    },
    {
      "cell_type": "code",
      "execution_count": null,
      "metadata": {
        "colab": {
          "base_uri": "https://localhost:8080/",
          "height": 325
        },
        "id": "CTe0LMjZtCSL",
        "outputId": "332cc139-55c3-4f8e-81f8-ff03e9cd6526"
      },
      "outputs": [
        {
          "data": {
            "text/html": [
              "<div>\n",
              "<style scoped>\n",
              "    .dataframe tbody tr th:only-of-type {\n",
              "        vertical-align: middle;\n",
              "    }\n",
              "\n",
              "    .dataframe tbody tr th {\n",
              "        vertical-align: top;\n",
              "    }\n",
              "\n",
              "    .dataframe thead th {\n",
              "        text-align: right;\n",
              "    }\n",
              "</style>\n",
              "<table border=\"1\" class=\"dataframe\">\n",
              "  <thead>\n",
              "    <tr style=\"text-align: right;\">\n",
              "      <th></th>\n",
              "      <th>id</th>\n",
              "      <th>url</th>\n",
              "      <th>region</th>\n",
              "      <th>region_url</th>\n",
              "      <th>price</th>\n",
              "      <th>year</th>\n",
              "      <th>manufacturer</th>\n",
              "      <th>model</th>\n",
              "      <th>condition</th>\n",
              "      <th>cylinders</th>\n",
              "      <th>...</th>\n",
              "      <th>size</th>\n",
              "      <th>type</th>\n",
              "      <th>paint_color</th>\n",
              "      <th>image_url</th>\n",
              "      <th>description</th>\n",
              "      <th>county</th>\n",
              "      <th>state</th>\n",
              "      <th>lat</th>\n",
              "      <th>long</th>\n",
              "      <th>posting_date</th>\n",
              "    </tr>\n",
              "  </thead>\n",
              "  <tbody>\n",
              "    <tr>\n",
              "      <th>0</th>\n",
              "      <td>7222695916</td>\n",
              "      <td>https://prescott.craigslist.org/cto/d/prescott...</td>\n",
              "      <td>prescott</td>\n",
              "      <td>https://prescott.craigslist.org</td>\n",
              "      <td>6000</td>\n",
              "      <td>NaN</td>\n",
              "      <td>NaN</td>\n",
              "      <td>NaN</td>\n",
              "      <td>NaN</td>\n",
              "      <td>NaN</td>\n",
              "      <td>...</td>\n",
              "      <td>NaN</td>\n",
              "      <td>NaN</td>\n",
              "      <td>NaN</td>\n",
              "      <td>NaN</td>\n",
              "      <td>NaN</td>\n",
              "      <td>NaN</td>\n",
              "      <td>az</td>\n",
              "      <td>NaN</td>\n",
              "      <td>NaN</td>\n",
              "      <td>NaN</td>\n",
              "    </tr>\n",
              "    <tr>\n",
              "      <th>1</th>\n",
              "      <td>7218891961</td>\n",
              "      <td>https://fayar.craigslist.org/ctd/d/bentonville...</td>\n",
              "      <td>fayetteville</td>\n",
              "      <td>https://fayar.craigslist.org</td>\n",
              "      <td>11900</td>\n",
              "      <td>NaN</td>\n",
              "      <td>NaN</td>\n",
              "      <td>NaN</td>\n",
              "      <td>NaN</td>\n",
              "      <td>NaN</td>\n",
              "      <td>...</td>\n",
              "      <td>NaN</td>\n",
              "      <td>NaN</td>\n",
              "      <td>NaN</td>\n",
              "      <td>NaN</td>\n",
              "      <td>NaN</td>\n",
              "      <td>NaN</td>\n",
              "      <td>ar</td>\n",
              "      <td>NaN</td>\n",
              "      <td>NaN</td>\n",
              "      <td>NaN</td>\n",
              "    </tr>\n",
              "    <tr>\n",
              "      <th>2</th>\n",
              "      <td>7221797935</td>\n",
              "      <td>https://keys.craigslist.org/cto/d/summerland-k...</td>\n",
              "      <td>florida keys</td>\n",
              "      <td>https://keys.craigslist.org</td>\n",
              "      <td>21000</td>\n",
              "      <td>NaN</td>\n",
              "      <td>NaN</td>\n",
              "      <td>NaN</td>\n",
              "      <td>NaN</td>\n",
              "      <td>NaN</td>\n",
              "      <td>...</td>\n",
              "      <td>NaN</td>\n",
              "      <td>NaN</td>\n",
              "      <td>NaN</td>\n",
              "      <td>NaN</td>\n",
              "      <td>NaN</td>\n",
              "      <td>NaN</td>\n",
              "      <td>fl</td>\n",
              "      <td>NaN</td>\n",
              "      <td>NaN</td>\n",
              "      <td>NaN</td>\n",
              "    </tr>\n",
              "    <tr>\n",
              "      <th>3</th>\n",
              "      <td>7222270760</td>\n",
              "      <td>https://worcester.craigslist.org/cto/d/west-br...</td>\n",
              "      <td>worcester / central MA</td>\n",
              "      <td>https://worcester.craigslist.org</td>\n",
              "      <td>1500</td>\n",
              "      <td>NaN</td>\n",
              "      <td>NaN</td>\n",
              "      <td>NaN</td>\n",
              "      <td>NaN</td>\n",
              "      <td>NaN</td>\n",
              "      <td>...</td>\n",
              "      <td>NaN</td>\n",
              "      <td>NaN</td>\n",
              "      <td>NaN</td>\n",
              "      <td>NaN</td>\n",
              "      <td>NaN</td>\n",
              "      <td>NaN</td>\n",
              "      <td>ma</td>\n",
              "      <td>NaN</td>\n",
              "      <td>NaN</td>\n",
              "      <td>NaN</td>\n",
              "    </tr>\n",
              "    <tr>\n",
              "      <th>4</th>\n",
              "      <td>7210384030</td>\n",
              "      <td>https://greensboro.craigslist.org/cto/d/trinit...</td>\n",
              "      <td>greensboro</td>\n",
              "      <td>https://greensboro.craigslist.org</td>\n",
              "      <td>4900</td>\n",
              "      <td>NaN</td>\n",
              "      <td>NaN</td>\n",
              "      <td>NaN</td>\n",
              "      <td>NaN</td>\n",
              "      <td>NaN</td>\n",
              "      <td>...</td>\n",
              "      <td>NaN</td>\n",
              "      <td>NaN</td>\n",
              "      <td>NaN</td>\n",
              "      <td>NaN</td>\n",
              "      <td>NaN</td>\n",
              "      <td>NaN</td>\n",
              "      <td>nc</td>\n",
              "      <td>NaN</td>\n",
              "      <td>NaN</td>\n",
              "      <td>NaN</td>\n",
              "    </tr>\n",
              "  </tbody>\n",
              "</table>\n",
              "<p>5 rows × 26 columns</p>\n",
              "</div>"
            ],
            "text/plain": [
              "           id                                                url  \\\n",
              "0  7222695916  https://prescott.craigslist.org/cto/d/prescott...   \n",
              "1  7218891961  https://fayar.craigslist.org/ctd/d/bentonville...   \n",
              "2  7221797935  https://keys.craigslist.org/cto/d/summerland-k...   \n",
              "3  7222270760  https://worcester.craigslist.org/cto/d/west-br...   \n",
              "4  7210384030  https://greensboro.craigslist.org/cto/d/trinit...   \n",
              "\n",
              "                   region                         region_url  price  year  \\\n",
              "0                prescott    https://prescott.craigslist.org   6000   NaN   \n",
              "1            fayetteville       https://fayar.craigslist.org  11900   NaN   \n",
              "2            florida keys        https://keys.craigslist.org  21000   NaN   \n",
              "3  worcester / central MA   https://worcester.craigslist.org   1500   NaN   \n",
              "4              greensboro  https://greensboro.craigslist.org   4900   NaN   \n",
              "\n",
              "  manufacturer model condition cylinders  ... size  type paint_color  \\\n",
              "0          NaN   NaN       NaN       NaN  ...  NaN   NaN         NaN   \n",
              "1          NaN   NaN       NaN       NaN  ...  NaN   NaN         NaN   \n",
              "2          NaN   NaN       NaN       NaN  ...  NaN   NaN         NaN   \n",
              "3          NaN   NaN       NaN       NaN  ...  NaN   NaN         NaN   \n",
              "4          NaN   NaN       NaN       NaN  ...  NaN   NaN         NaN   \n",
              "\n",
              "  image_url description county state lat long posting_date  \n",
              "0       NaN         NaN    NaN    az NaN  NaN          NaN  \n",
              "1       NaN         NaN    NaN    ar NaN  NaN          NaN  \n",
              "2       NaN         NaN    NaN    fl NaN  NaN          NaN  \n",
              "3       NaN         NaN    NaN    ma NaN  NaN          NaN  \n",
              "4       NaN         NaN    NaN    nc NaN  NaN          NaN  \n",
              "\n",
              "[5 rows x 26 columns]"
            ]
          },
          "execution_count": 1,
          "metadata": {},
          "output_type": "execute_result"
        }
      ],
      "source": [
        "file_path = './vehicles.csv' # ruta al archivo CSV\n",
        "df = pd.read_csv(file_path) # leer el archivo CSV y conseguir un dataframe\n",
        "df.head() # mostrar los primeros 5 valores"
      ]
    },
    {
      "cell_type": "markdown",
      "metadata": {
        "id": "qfCZNtLizh9H"
      },
      "source": [
        "_____________________________________________________________________________\n",
        "## **4. HIPÓTESIS**"
      ]
    },
    {
      "cell_type": "markdown",
      "metadata": {},
      "source": [
        "Las siguientes hipótesis se plantean en marco al objetivo general de este análisis:  \n",
        "\n",
        "1. **Los vehículos con valores en el odómetro más bajo se venden exponencialmente más caros.**  \n",
        "*Esto es porque los vehículos con menos kilometraje (en teoría) deberían estar mas nuevos y en mejor estado que los autos que recorrieron más kilometros. En base a esto, se hipotetiza que la variación de este precio es de tipo exponencial.*  \n",
        "  \n",
        "2. **Los vehículos con año de fabricación menor, se venden exponencialmente más caros.**  \n",
        "*Siguiendo con la premisa de que los autos más nuevos valen exponencialmente menos, se tratará de comprobar si esto también va en función del año de fabricación del vehículo y que correlación existe con la hipótesis anterior.*  \n",
        "\n",
        "3. **Más del 50% de las publicaciones, son de vehículos con transmisión automática.**  \n",
        "*Teniendo en cuenta la premisa que los automóviles con trasmisión automática son los más valuados, se verificará si esto es efectivamente así y que relación tiene con las 2 hipótesis anteriores.*"
      ]
    },
    {
      "cell_type": "markdown",
      "metadata": {},
      "source": [
        "______________________________________________________________________________\n",
        "## **5. ANÁLISIS EXPLORATORIO DE LOS DATOS (EDA)**"
      ]
    },
    {
      "cell_type": "markdown",
      "metadata": {},
      "source": [
        "1. Verificar la integridad de los datos en las columnas. Esto se hace para verificar que tan buena es la calidad del dataset. Keggle, la pagina web desde donde se descargo el datase, muestra un reporte de la integridad de los datos de cada columna, pero para complementar el análisis, se realiza el siguiente codigo:"
      ]
    },
    {
      "cell_type": "code",
      "execution_count": null,
      "metadata": {},
      "outputs": [],
      "source": [
        "# Función para calcular el porcentaje de integridad de cada columna\n",
        "def column_integrity_simple(df):\n",
        "    for col in df.columns:\n",
        "        total_rows = len(df)\n",
        "        non_null_count = df[col].notna().sum()\n",
        "        integrity_percentage = (non_null_count / total_rows) * 100\n",
        "        print(f\"Columna {col}: {round(integrity_percentage, 2)}% -> {total_rows - non_null_count}/{total_rows}\")\n",
        "\n",
        "# Ejecutar el análisis de integridad simple\n",
        "print(\"Integridad de los datos por columna:\")\n",
        "column_integrity_simple(df)"
      ]
    },
    {
      "cell_type": "markdown",
      "metadata": {},
      "source": [
        "2. Debido a que se muestra que no todas las columnas están completas, con el 100% de los datos, es interesante saber que cantidad de datos falta. Para esto se ejecuta la siguiente línea de código."
      ]
    },
    {
      "cell_type": "code",
      "execution_count": null,
      "metadata": {},
      "outputs": [],
      "source": [
        "df.isna().sum()"
      ]
    },
    {
      "cell_type": "markdown",
      "metadata": {},
      "source": [
        "3. asd"
      ]
    },
    {
      "cell_type": "code",
      "execution_count": null,
      "metadata": {},
      "outputs": [],
      "source": [
        "df.info()"
      ]
    },
    {
      "cell_type": "markdown",
      "metadata": {},
      "source": [
        "4. asd"
      ]
    },
    {
      "cell_type": "code",
      "execution_count": null,
      "metadata": {},
      "outputs": [],
      "source": [
        "df.describe()"
      ]
    },
    {
      "cell_type": "markdown",
      "metadata": {},
      "source": [
        "### Descripción de los campos\n",
        "\n",
        "| # | CAMPO | TIPO DE DATO | DESCRIPCIÓN |\n",
        "|---|-------|--------------|-------------|\n",
        "| 1 | id | number | identificador del automovil publicado en la pagina web. |\n",
        "| 2 | url | string | direccion web a la publicaciion del automovil en la pagina web. |\n",
        "| 3 | region | string | estado de los estado unidos donde esta publicado el automovil segun Craiglist. |\n",
        "| 4 | region_url | string | url pertencceinte exclusivamente a la region. |\n",
        "| 5 | price | number | precio del automovil en unidades de la moneda dolar (USD). |\n",
        "| 6 | year | number | año de fabricacion del automovil. |\n",
        "| 7 | manufacturer | string |fabricante del vehiculo. |\n",
        "| 8 | model | string | modelo del vehiculo segun la disignacion que le dio el fabricante. |\n",
        "| 9 | condicion | string | esta es una evaluacion que se hace al publicar el automovil en la pagina web, pero es un dato subjetivo acorde al publicador. |\n",
        "| 10 | cylinders | string | cantidad de cilindros que tiene el motor en su estructura y como estan configurados. |\n",
        "| 11 | fuel | string | combustible que utiliza el vehiculo. |\n",
        "| 12 | odometer | number | es la distancia recorrida todal del vehiculo en millas. |\n",
        "| 13 | title_status | string | estado del titulo del vehiculo. No se conoce especificamente que significa, se averiguara mas al respecto. |\n",
        "| 14 | transmission | string | tipo de trasmision con la que esta configurado el vehiculo. |\n",
        "| 15 | VIN | string | numero de identificacion del vehiculo. Es parecido a la patente. |\n",
        "| 16 | drive | string | tipo de traccion del vehiculo. Esto es, como se distribuye la energia mecanica a las ruedas. |\n",
        "| 17 | size | number | se invertigara mas al respecto de que significa esta columna. |\n",
        "| 18 | type | string | tipo o categoria del formato del vehiculo. |\n",
        "| 19 | paint_color | string | color exterior del vehiculo. |\n",
        "| 20 | image_url | string | link a la imagen del vehiculo publicado. |\n",
        "| 21 | description | string | descripcion del vehiculo redactada por la persona que publico el vehiculo en la pagina web. |\n",
        "| 22 | country | null | columna vacia ya que el valor siempre era estados unidos. |\n",
        "| 23 | state | string | estado de los estados unidos donde se publica el vehiculo. No se almacena el nombre ompleto, sino la abreviatura. |\n",
        "| 24 | lat | number | latitud de la ubicacion del vehiculo listado. |\n",
        "| 25 | lon | number | longitud de la ubicacion del vehiculo listado. |\n",
        "| 26 | posting_date | datetime | fecha de la publicacion del vehiculo. |"
      ]
    },
    {
      "cell_type": "markdown",
      "metadata": {},
      "source": [
        "Debido a que existen datos que no se encuentran en el dataframe, se procede a completar los mismos con datos acordes al tipo que corresponde. Esto se hace con el fin de"
      ]
    },
    {
      "cell_type": "code",
      "execution_count": null,
      "metadata": {},
      "outputs": [],
      "source": [
        "# Completamos los datos faltantes en las columnas de tipo object/string\n",
        "columnas_editar = (\"manufacturer\",\"model\",\"condition\",\n",
        "                   \"cylinders\",\"fuel\",\"title_status\",\n",
        "                   \"transmission\",\"drive\", \"size\", \"type\",\n",
        "                   \"paint_color\")\n",
        "for columna in columnas_editar:\n",
        "    df[columna] = df[columna].fillna(\"uknown\")\n",
        "\n",
        "# Completamos los datos faltantes en las columnas de tipo number\n",
        "df[\"year\"] = df[\"year\"].fillna(df[\"year\"].mean())\n",
        "df[\"odometer\"] = df[\"odometer\"].fillna(df[\"odometer\"].mean())\n",
        "\n",
        "# Mostrar que los datos fueron modificados en el dataframe\n",
        "df.isna().sum()"
      ]
    },
    {
      "cell_type": "markdown",
      "metadata": {},
      "source": [
        "Hay columnas que no fueron completadas porque no es necesario hacerlo por el tipo de dato que representan. Por ejemplo, VIN es la patente o un identificador unico del vehoiculo. Sin embargo, no son datos que sean relevantes para la contrastación de la hipotesis y no serán usados en el análisis o entrenamiento. Como así tambien la ubicacion precisa de donde se realizo el posteo, es decir \"lat\" y \"lon\"."
      ]
    },
    {
      "cell_type": "markdown",
      "metadata": {},
      "source": [
        "### Contrastación de las hipótesis"
      ]
    },
    {
      "cell_type": "markdown",
      "metadata": {
        "id": "o9IIKsIOxR9s"
      },
      "source": [
        "#### Hipótesis 1:\n",
        "*''Los vehículos con valores en el odómetro más bajo se venden exponencialmente más caros.''*\n",
        "\n",
        "Primero, se consigue las medidas de tendencia central y otras medidas complementarias. La MODA no se calcula, ya que los precios son variados y dificilmente se repitan."
      ]
    },
    {
      "cell_type": "code",
      "execution_count": null,
      "metadata": {
        "colab": {
          "base_uri": "https://localhost:8080/"
        },
        "id": "ty4zW7FdwHko",
        "outputId": "e7dcd895-908c-4329-e617-5b7bdf2709f8"
      },
      "outputs": [
        {
          "name": "stdout",
          "output_type": "stream",
          "text": [
            "Media: 98043.33\n",
            "Mediana: 85548.0\n",
            "Rango: 10000000.0\n",
            "Varianza: 45745296383.6\n",
            "Desvío estándar: 213881.5\n",
            "Percentil 25: 37704.0\n",
            "Percentil 50 (Mediana): 85548.0\n",
            "Percentil 75: 133542.5\n",
            "Valor mínimo: 0.0\n",
            "Valor máximo: 10000000.0\n"
          ]
        }
      ],
      "source": [
        "# Calcular estadísticas para la columna \"odometer\"\n",
        "odometer_stats = {\n",
        "    \"Media\": df[\"odometer\"].mean(),\n",
        "    \"Mediana\": df[\"odometer\"].median(),\n",
        "    \"Rango\": df[\"odometer\"].max() - df[\"odometer\"].min(),\n",
        "    \"Varianza\": df[\"odometer\"].var(),\n",
        "    \"Desvío estándar\": df[\"odometer\"].std(),\n",
        "    \"Percentil 25\": df[\"odometer\"].quantile(0.25),\n",
        "    \"Percentil 50 (Mediana)\": df[\"odometer\"].quantile(0.50),\n",
        "    \"Percentil 75\": df[\"odometer\"].quantile(0.75),\n",
        "    \"Valor mínimo\": df[\"odometer\"].min(),\n",
        "    \"Valor máximo\": df[\"odometer\"].max()\n",
        "}\n",
        "\n",
        "# Imprimir los resultados\n",
        "for key, value in odometer_stats.items():\n",
        "    print(f\"{key}: {round(value, 2)}\")"
      ]
    },
    {
      "cell_type": "code",
      "execution_count": null,
      "metadata": {
        "colab": {
          "base_uri": "https://localhost:8080/",
          "height": 1000
        },
        "id": "_NoDFaRo75Vo",
        "outputId": "30d2a4d5-27aa-4ba4-97cd-33cea6f1a0ce"
      },
      "outputs": [
        {
          "ename": "ValueError",
          "evalue": "levels must be in [0, 1]",
          "output_type": "error",
          "traceback": [
            "\u001b[0;31m---------------------------------------------------------------------------\u001b[0m",
            "\u001b[0;31mValueError\u001b[0m                                Traceback (most recent call last)",
            "\u001b[0;32m<ipython-input-3-ed29cddf2f85>\u001b[0m in \u001b[0;36m<cell line: 0>\u001b[0;34m()\u001b[0m\n\u001b[1;32m     18\u001b[0m \u001b[0mlevels\u001b[0m \u001b[0;34m=\u001b[0m \u001b[0mnp\u001b[0m\u001b[0;34m.\u001b[0m\u001b[0mlinspace\u001b[0m\u001b[0;34m(\u001b[0m\u001b[0mdf_clean\u001b[0m\u001b[0;34m[\u001b[0m\u001b[0;34m\"price\"\u001b[0m\u001b[0;34m]\u001b[0m\u001b[0;34m.\u001b[0m\u001b[0mmin\u001b[0m\u001b[0;34m(\u001b[0m\u001b[0;34m)\u001b[0m\u001b[0;34m,\u001b[0m \u001b[0mdf_clean\u001b[0m\u001b[0;34m[\u001b[0m\u001b[0;34m\"price\"\u001b[0m\u001b[0;34m]\u001b[0m\u001b[0;34m.\u001b[0m\u001b[0mmax\u001b[0m\u001b[0;34m(\u001b[0m\u001b[0;34m)\u001b[0m\u001b[0;34m,\u001b[0m \u001b[0;36m10\u001b[0m\u001b[0;34m)\u001b[0m  \u001b[0;31m# 10 levels between min and max price\u001b[0m\u001b[0;34m\u001b[0m\u001b[0;34m\u001b[0m\u001b[0m\n\u001b[1;32m     19\u001b[0m \u001b[0;31m# Plot using the calculated levels:\u001b[0m\u001b[0;34m\u001b[0m\u001b[0;34m\u001b[0m\u001b[0m\n\u001b[0;32m---> 20\u001b[0;31m \u001b[0msns\u001b[0m\u001b[0;34m.\u001b[0m\u001b[0mkdeplot\u001b[0m\u001b[0;34m(\u001b[0m\u001b[0mx\u001b[0m\u001b[0;34m=\u001b[0m\u001b[0mdf_clean\u001b[0m\u001b[0;34m[\u001b[0m\u001b[0;34m\"odometer\"\u001b[0m\u001b[0;34m]\u001b[0m\u001b[0;34m,\u001b[0m \u001b[0my\u001b[0m\u001b[0;34m=\u001b[0m\u001b[0mdf_clean\u001b[0m\u001b[0;34m[\u001b[0m\u001b[0;34m\"price\"\u001b[0m\u001b[0;34m]\u001b[0m\u001b[0;34m,\u001b[0m \u001b[0mcolor\u001b[0m\u001b[0;34m=\u001b[0m\u001b[0;34m\"red\"\u001b[0m\u001b[0;34m,\u001b[0m \u001b[0mlinewidth\u001b[0m\u001b[0;34m=\u001b[0m\u001b[0;36m2\u001b[0m\u001b[0;34m,\u001b[0m \u001b[0mlevels\u001b[0m\u001b[0;34m=\u001b[0m\u001b[0mlevels\u001b[0m\u001b[0;34m)\u001b[0m\u001b[0;34m\u001b[0m\u001b[0;34m\u001b[0m\u001b[0m\n\u001b[0m\u001b[1;32m     21\u001b[0m \u001b[0;34m\u001b[0m\u001b[0m\n\u001b[1;32m     22\u001b[0m \u001b[0;31m# Etiquetas y título\u001b[0m\u001b[0;34m\u001b[0m\u001b[0;34m\u001b[0m\u001b[0m\n",
            "\u001b[0;32m/usr/local/lib/python3.11/dist-packages/seaborn/distributions.py\u001b[0m in \u001b[0;36mkdeplot\u001b[0;34m(data, x, y, hue, weights, palette, hue_order, hue_norm, color, fill, multiple, common_norm, common_grid, cumulative, bw_method, bw_adjust, warn_singular, log_scale, levels, thresh, gridsize, cut, clip, legend, cbar, cbar_ax, cbar_kws, ax, **kwargs)\u001b[0m\n\u001b[1;32m   1713\u001b[0m     \u001b[0;32melse\u001b[0m\u001b[0;34m:\u001b[0m\u001b[0;34m\u001b[0m\u001b[0;34m\u001b[0m\u001b[0m\n\u001b[1;32m   1714\u001b[0m \u001b[0;34m\u001b[0m\u001b[0m\n\u001b[0;32m-> 1715\u001b[0;31m         p.plot_bivariate_density(\n\u001b[0m\u001b[1;32m   1716\u001b[0m             \u001b[0mcommon_norm\u001b[0m\u001b[0;34m=\u001b[0m\u001b[0mcommon_norm\u001b[0m\u001b[0;34m,\u001b[0m\u001b[0;34m\u001b[0m\u001b[0;34m\u001b[0m\u001b[0m\n\u001b[1;32m   1717\u001b[0m             \u001b[0mfill\u001b[0m\u001b[0;34m=\u001b[0m\u001b[0mfill\u001b[0m\u001b[0;34m,\u001b[0m\u001b[0;34m\u001b[0m\u001b[0;34m\u001b[0m\u001b[0m\n",
            "\u001b[0;32m/usr/local/lib/python3.11/dist-packages/seaborn/distributions.py\u001b[0m in \u001b[0;36mplot_bivariate_density\u001b[0;34m(self, common_norm, fill, levels, thresh, color, legend, cbar, warn_singular, cbar_ax, cbar_kws, estimate_kws, **contour_kws)\u001b[0m\n\u001b[1;32m   1107\u001b[0m         \u001b[0;32melse\u001b[0m\u001b[0;34m:\u001b[0m\u001b[0;34m\u001b[0m\u001b[0;34m\u001b[0m\u001b[0m\n\u001b[1;32m   1108\u001b[0m             \u001b[0;32mif\u001b[0m \u001b[0mmin\u001b[0m\u001b[0;34m(\u001b[0m\u001b[0mlevels\u001b[0m\u001b[0;34m)\u001b[0m \u001b[0;34m<\u001b[0m \u001b[0;36m0\u001b[0m \u001b[0;32mor\u001b[0m \u001b[0mmax\u001b[0m\u001b[0;34m(\u001b[0m\u001b[0mlevels\u001b[0m\u001b[0;34m)\u001b[0m \u001b[0;34m>\u001b[0m \u001b[0;36m1\u001b[0m\u001b[0;34m:\u001b[0m\u001b[0;34m\u001b[0m\u001b[0;34m\u001b[0m\u001b[0m\n\u001b[0;32m-> 1109\u001b[0;31m                 \u001b[0;32mraise\u001b[0m \u001b[0mValueError\u001b[0m\u001b[0;34m(\u001b[0m\u001b[0;34m\"levels must be in [0, 1]\"\u001b[0m\u001b[0;34m)\u001b[0m\u001b[0;34m\u001b[0m\u001b[0;34m\u001b[0m\u001b[0m\n\u001b[0m\u001b[1;32m   1110\u001b[0m \u001b[0;34m\u001b[0m\u001b[0m\n\u001b[1;32m   1111\u001b[0m         \u001b[0;31m# Transform from iso-proportions to iso-densities\u001b[0m\u001b[0;34m\u001b[0m\u001b[0;34m\u001b[0m\u001b[0m\n",
            "\u001b[0;31mValueError\u001b[0m: levels must be in [0, 1]"
          ]
        },
        {
          "data": {
            "image/png": "[encoded data removed]",
            "text/plain": [
              "<Figure size 1500x1000 with 1 Axes>"
            ]
          },
          "metadata": {},
          "output_type": "display_data"
        }
      ],
      "source": [
        "# Asegurar que las columnas sean numéricas y eliminar valores NaN\n",
        "df[\"odometer\"] = pd.to_numeric(df[\"odometer\"], errors='coerce')\n",
        "df[\"price\"] = pd.to_numeric(df[\"price\"], errors='coerce')\n",
        "\n",
        "# Filtrar valores no nulos\n",
        "df_clean = df.dropna(subset=[\"odometer\", \"price\"])\n",
        "\n",
        "# Crear el gráfico\n",
        "plt.figure(figsize=(15, 10))\n",
        "#sns.histplot(df_clean, x=\"odometer\", y=\"price\", bins=50, pthresh=0.1, cmap=\"Blues\")\n",
        "\n",
        "# using numpy.linspace to ensure they are strictly increasing:\n",
        "levels = np.linspace(df_clean[\"price\"].min(), df_clean[\"price\"].max(), 10)  # 10 levels between min and max price\n",
        "# Plot using the calculated levels:\n",
        "sns.kdeplot(x=df_clean[\"odometer\"], y=df_clean[\"price\"], color=\"red\", linewidth=2, levels=levels)\n",
        "\n",
        "# Etiquetas y título\n",
        "plt.title(\"Relación entre Odómetro y Precio de Venta\")\n",
        "plt.xlabel(\"Odómetro (millas)\")\n",
        "plt.ylabel(\"Precio (USD)\")\n",
        "\n",
        "# Mostrar el gráfico\n",
        "plt.show()"
      ]
    },
    {
      "cell_type": "code",
      "execution_count": null,
      "metadata": {
        "colab": {
          "base_uri": "https://localhost:8080/"
        },
        "id": "kiRdXEOx_Lqm",
        "outputId": "8720782d-08c9-488a-82fe-7f0e4c1b5b66"
      },
      "outputs": [
        {
          "name": "stdout",
          "output_type": "stream",
          "text": [
            "La correlación entre odómetro y precio es: 0.01\n"
          ]
        }
      ],
      "source": [
        "correlacion = df[\"odometer\"].corr(df[\"price\"])\n",
        "print(f\"La correlación entre odómetro y precio es: {round(correlacion, 2)}\")"
      ]
    },
    {
      "cell_type": "markdown",
      "metadata": {},
      "source": [
        "______________________________________________________________________________\n",
        "## **6. FEATURE ENGINEERING (Ingeniería de características)**"
      ]
    },
    {
      "cell_type": "markdown",
      "metadata": {},
      "source": [
        "______________________________________________________________________________\n",
        "## **7. PREPROCESAMIENTO DE DATOS**"
      ]
    },
    {
      "cell_type": "markdown",
      "metadata": {},
      "source": [
        "______________________________________________________________________________\n",
        "## **8. DIVISIÓN DE DATOS**"
      ]
    },
    {
      "cell_type": "markdown",
      "metadata": {},
      "source": [
        "______________________________________________________________________________\n",
        "## **9. CONSTRUCCIÓN Y ENTRENAMIENTO DEL MODELO**"
      ]
    },
    {
      "cell_type": "markdown",
      "metadata": {},
      "source": [
        "______________________________________________________________________________\n",
        "## **10. EVALUACIÓN DEL MODELO**"
      ]
    },
    {
      "cell_type": "markdown",
      "metadata": {},
      "source": [
        "______________________________________________________________________________\n",
        "## **11. ANÁLISIS DE IMPORTANCIA DE CARACTERÍSTICAS**"
      ]
    },
    {
      "cell_type": "markdown",
      "metadata": {},
      "source": [
        "______________________________________________________________________________\n",
        "## **12. CONCLUSIONES**"
      ]
    }
  ],
  "metadata": {
    "colab": {
      "provenance": []
    },
    "kernelspec": {
      "display_name": "Python 3",
      "name": "python3"
    },
    "language_info": {
      "codemirror_mode": {
        "name": "ipython",
        "version": 3
      },
      "file_extension": ".py",
      "mimetype": "text/x-python",
      "name": "python",
      "nbconvert_exporter": "python",
      "pygments_lexer": "ipython3",
      "version": "3.13.1"
    }
  },
  "nbformat": 4,
  "nbformat_minor": 0
}
