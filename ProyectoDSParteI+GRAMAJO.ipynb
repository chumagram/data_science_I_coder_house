{
  "cells": [
    {
      "cell_type": "markdown",
      "metadata": {
        "id": "iIpXt0uytTfw"
      },
      "source": [
        "# PRÁCTICO FINAL DE CIENCIA DE DATOS I - Coder House\n",
        "Estudiante: Gonzalo Leonel Gramajo\n",
        "\n",
        "## **ABSTRAC**\n",
        "Este notebook corresponde al trabajo final del curso \"Fundamentos de ciencia de datos\" de Coder House. Está basado en un dataset de ventas de autos rescatado desde Keegle. Este conjunto de datos incluye todas las entradas de vehículos usados ​​dentro de los Estados Unidos en Craigslist.\n",
        "Es importante resaltar que se cuenta con 426 mil lineas y el archivo ocupa 1.45 GB de almacenamiento.\n",
        "\n",
        "**Objetivo**: Lograr predecir el precio de venta de los vehículos\n",
        "\n",
        "**Dataset**: Used Cars Dataset - Vehicles listings from Craigslist.org. Enlace web: https://www.kaggle.com/datasets/austinreese/craigslist-carstrucks-data\n",
        "\n",
        "**Pasos:**\n",
        "1.  **Introducción y Objetivo:** Definir el problema y el objetivo.\n",
        "2.  **Importar Librerías:** Cargar las herramientas necesarias.\n",
        "3.  **Carga de Datos:** Leer el dataset.\n",
        "4.  **Hipótesis:** Plantear una hipótesis clara.\n",
        "5.  **Análisis Exploratorio de Datos (EDA):** Entender los datos, distribuciones, valores faltantes y relaciones.\n",
        "6.  **Feature Engineering (Ingeniería de Características):** Crear nuevas características si es relevante.\n",
        "7.  **Preprocesamiento de Datos:** Preparar los datos para el modelo (manejo de categóricas, escalado).\n",
        "8.  **División de Datos:** Separar en conjuntos de entrenamiento y prueba.\n",
        "9.  **Construcción y Entrenamiento del Modelo:** Usar RandomForestClassifier.\n",
        "10. **Evaluación del Modelo:** Medir el rendimiento con métricas adecuadas.\n",
        "11. **Análisis de Importancia de Características:** Identificar qué variables son más influyentes.\n",
        "12. **Conclusiones:** Interpretar los resultados y validar/refutar la hipótesis."
      ]
    },
    {
      "cell_type": "markdown",
      "metadata": {
        "id": "i85s295CudSD"
      },
      "source": [
        "______________________________________________________________________________\n",
        "**DESCRIPCIÓN DE LAS COLUMNAS:**\n",
        "\n",
        "| # | CAMPO | TIPO DE DATO | DESCRIPCIÓN |\n",
        "|---|-------|--------------|-------------|\n",
        "| 1 | id | number | identificador del automovil publicado en la pagina web. |\n",
        "| 2 | url | string | direccion web a la publicaciion del automovil en la pagina web. |\n",
        "| 3 | region | string | estado de los estado unidos donde esta publicado el automovil segun Craiglist. |\n",
        "| 4 | region_url | string | url pertencceinte exclusivamente a la region. |\n",
        "| 5 | price | number | precio del automovil en unidades de la moneda dolar (USD). |\n",
        "| 6 | year | number | año de fabricacion del automovil. |\n",
        "| 7 | manufacturer | string |fabricante del vehiculo. |\n",
        "| 8 | model | string | modelo del vehiculo segun la disignacion que le dio el fabricante. |\n",
        "| 9 | condicion | string | esta es una evaluacion que se hace al publicar el automovil en la pagina web, pero es un dato subjetivo acorde al publicador. |\n",
        "| 10 | cylinders | string | cantidad de cilindros que tiene el motor en su estructura y como estan configurados. |\n",
        "| 11 | fuel | string | combustible que utiliza el vehiculo. |\n",
        "| 12 | odometer | number | es la distancia recorrida todal del vehiculo en millas. |\n",
        "| 13 | title_status | string | estado del titulo del vehiculo. No se conoce especificamente que significa, se averiguara mas al respecto. |\n",
        "| 14 | transmission | string | tipo de trasmision con la que esta configurado el vehiculo. |\n",
        "| 15 | VIN | string | numero de identificacion del vehiculo. Es parecido a la patente. |\n",
        "| 16 | drive | string | tipo de traccion del vehiculo. Esto es, como se distribuye la energia mecanica a las ruedas. |\n",
        "| 17 | size | number | se invertigara mas al respecto de que significa esta columna. |\n",
        "| 18 | type | string | tipo o categoria del formato del vehiculo. |\n",
        "| 19 | paint_color | string | color exterior del vehiculo. |\n",
        "| 20 | image_url | string | link a la imagen del vehiculo publicado. |\n",
        "| 21 | description | string | descripcion del vehiculo redactada por la persona que publico el vehiculo en la pagina web. |\n",
        "| 22 | country | null | columna vacia ya que el valor siempre era estados unidos. |\n",
        "| 23 | state | string | estado de los estados unidos donde se publica el vehiculo. No se almacena el nombre ompleto, sino la abreviatura. |\n",
        "| 24 | lat | number | latitud de la ubicacion del vehiculo listado. |\n",
        "| 25 | lon | number | longitud de la ubicacion del vehiculo listado. |\n",
        "| 26 | posting_date | datetime | fecha de la publicacion del vehiculo. |\n",
        "\n",
        "______________________________________________________________________________\n",
        "**HIPÓTESIS:**\n",
        "\n",
        "1. Los vehículos con valores en el odómetro más bajo se venden exponencialmente más caros.\n",
        "2. La mayor cantidad de publicaciones son de marcas estadounidenses (Chevrolet, Ford, etc.)\n",
        "3. Los vehículos con año de fabricación menor, se venden exponencialmente más caros.\n",
        "4. Más del 50% de las publicaciones, son de vehículos con transmisión automática."
      ]
    },
    {
      "cell_type": "markdown",
      "metadata": {
        "id": "rizCDcNeVwSv"
      },
      "source": [
        "## **PREPARACIÓN DEL DATASET**\n",
        "1. Acceder al archivo CSV del dataset:"
      ]
    },
    {
      "cell_type": "code",
      "execution_count": 4,
      "metadata": {
        "colab": {
          "base_uri": "https://localhost:8080/",
          "height": 325
        },
        "id": "CTe0LMjZtCSL",
        "outputId": "332cc139-55c3-4f8e-81f8-ff03e9cd6526"
      },
      "outputs": [
        {
          "data": {
            "text/html": [
              "<div>\n",
              "<style scoped>\n",
              "    .dataframe tbody tr th:only-of-type {\n",
              "        vertical-align: middle;\n",
              "    }\n",
              "\n",
              "    .dataframe tbody tr th {\n",
              "        vertical-align: top;\n",
              "    }\n",
              "\n",
              "    .dataframe thead th {\n",
              "        text-align: right;\n",
              "    }\n",
              "</style>\n",
              "<table border=\"1\" class=\"dataframe\">\n",
              "  <thead>\n",
              "    <tr style=\"text-align: right;\">\n",
              "      <th></th>\n",
              "      <th>id</th>\n",
              "      <th>url</th>\n",
              "      <th>region</th>\n",
              "      <th>region_url</th>\n",
              "      <th>price</th>\n",
              "      <th>year</th>\n",
              "      <th>manufacturer</th>\n",
              "      <th>model</th>\n",
              "      <th>condition</th>\n",
              "      <th>cylinders</th>\n",
              "      <th>...</th>\n",
              "      <th>size</th>\n",
              "      <th>type</th>\n",
              "      <th>paint_color</th>\n",
              "      <th>image_url</th>\n",
              "      <th>description</th>\n",
              "      <th>county</th>\n",
              "      <th>state</th>\n",
              "      <th>lat</th>\n",
              "      <th>long</th>\n",
              "      <th>posting_date</th>\n",
              "    </tr>\n",
              "  </thead>\n",
              "  <tbody>\n",
              "    <tr>\n",
              "      <th>0</th>\n",
              "      <td>7222695916</td>\n",
              "      <td>https://prescott.craigslist.org/cto/d/prescott...</td>\n",
              "      <td>prescott</td>\n",
              "      <td>https://prescott.craigslist.org</td>\n",
              "      <td>6000</td>\n",
              "      <td>NaN</td>\n",
              "      <td>NaN</td>\n",
              "      <td>NaN</td>\n",
              "      <td>NaN</td>\n",
              "      <td>NaN</td>\n",
              "      <td>...</td>\n",
              "      <td>NaN</td>\n",
              "      <td>NaN</td>\n",
              "      <td>NaN</td>\n",
              "      <td>NaN</td>\n",
              "      <td>NaN</td>\n",
              "      <td>NaN</td>\n",
              "      <td>az</td>\n",
              "      <td>NaN</td>\n",
              "      <td>NaN</td>\n",
              "      <td>NaN</td>\n",
              "    </tr>\n",
              "    <tr>\n",
              "      <th>1</th>\n",
              "      <td>7218891961</td>\n",
              "      <td>https://fayar.craigslist.org/ctd/d/bentonville...</td>\n",
              "      <td>fayetteville</td>\n",
              "      <td>https://fayar.craigslist.org</td>\n",
              "      <td>11900</td>\n",
              "      <td>NaN</td>\n",
              "      <td>NaN</td>\n",
              "      <td>NaN</td>\n",
              "      <td>NaN</td>\n",
              "      <td>NaN</td>\n",
              "      <td>...</td>\n",
              "      <td>NaN</td>\n",
              "      <td>NaN</td>\n",
              "      <td>NaN</td>\n",
              "      <td>NaN</td>\n",
              "      <td>NaN</td>\n",
              "      <td>NaN</td>\n",
              "      <td>ar</td>\n",
              "      <td>NaN</td>\n",
              "      <td>NaN</td>\n",
              "      <td>NaN</td>\n",
              "    </tr>\n",
              "    <tr>\n",
              "      <th>2</th>\n",
              "      <td>7221797935</td>\n",
              "      <td>https://keys.craigslist.org/cto/d/summerland-k...</td>\n",
              "      <td>florida keys</td>\n",
              "      <td>https://keys.craigslist.org</td>\n",
              "      <td>21000</td>\n",
              "      <td>NaN</td>\n",
              "      <td>NaN</td>\n",
              "      <td>NaN</td>\n",
              "      <td>NaN</td>\n",
              "      <td>NaN</td>\n",
              "      <td>...</td>\n",
              "      <td>NaN</td>\n",
              "      <td>NaN</td>\n",
              "      <td>NaN</td>\n",
              "      <td>NaN</td>\n",
              "      <td>NaN</td>\n",
              "      <td>NaN</td>\n",
              "      <td>fl</td>\n",
              "      <td>NaN</td>\n",
              "      <td>NaN</td>\n",
              "      <td>NaN</td>\n",
              "    </tr>\n",
              "    <tr>\n",
              "      <th>3</th>\n",
              "      <td>7222270760</td>\n",
              "      <td>https://worcester.craigslist.org/cto/d/west-br...</td>\n",
              "      <td>worcester / central MA</td>\n",
              "      <td>https://worcester.craigslist.org</td>\n",
              "      <td>1500</td>\n",
              "      <td>NaN</td>\n",
              "      <td>NaN</td>\n",
              "      <td>NaN</td>\n",
              "      <td>NaN</td>\n",
              "      <td>NaN</td>\n",
              "      <td>...</td>\n",
              "      <td>NaN</td>\n",
              "      <td>NaN</td>\n",
              "      <td>NaN</td>\n",
              "      <td>NaN</td>\n",
              "      <td>NaN</td>\n",
              "      <td>NaN</td>\n",
              "      <td>ma</td>\n",
              "      <td>NaN</td>\n",
              "      <td>NaN</td>\n",
              "      <td>NaN</td>\n",
              "    </tr>\n",
              "    <tr>\n",
              "      <th>4</th>\n",
              "      <td>7210384030</td>\n",
              "      <td>https://greensboro.craigslist.org/cto/d/trinit...</td>\n",
              "      <td>greensboro</td>\n",
              "      <td>https://greensboro.craigslist.org</td>\n",
              "      <td>4900</td>\n",
              "      <td>NaN</td>\n",
              "      <td>NaN</td>\n",
              "      <td>NaN</td>\n",
              "      <td>NaN</td>\n",
              "      <td>NaN</td>\n",
              "      <td>...</td>\n",
              "      <td>NaN</td>\n",
              "      <td>NaN</td>\n",
              "      <td>NaN</td>\n",
              "      <td>NaN</td>\n",
              "      <td>NaN</td>\n",
              "      <td>NaN</td>\n",
              "      <td>nc</td>\n",
              "      <td>NaN</td>\n",
              "      <td>NaN</td>\n",
              "      <td>NaN</td>\n",
              "    </tr>\n",
              "  </tbody>\n",
              "</table>\n",
              "<p>5 rows × 26 columns</p>\n",
              "</div>"
            ],
            "text/plain": [
              "           id                                                url  \\\n",
              "0  7222695916  https://prescott.craigslist.org/cto/d/prescott...   \n",
              "1  7218891961  https://fayar.craigslist.org/ctd/d/bentonville...   \n",
              "2  7221797935  https://keys.craigslist.org/cto/d/summerland-k...   \n",
              "3  7222270760  https://worcester.craigslist.org/cto/d/west-br...   \n",
              "4  7210384030  https://greensboro.craigslist.org/cto/d/trinit...   \n",
              "\n",
              "                   region                         region_url  price  year  \\\n",
              "0                prescott    https://prescott.craigslist.org   6000   NaN   \n",
              "1            fayetteville       https://fayar.craigslist.org  11900   NaN   \n",
              "2            florida keys        https://keys.craigslist.org  21000   NaN   \n",
              "3  worcester / central MA   https://worcester.craigslist.org   1500   NaN   \n",
              "4              greensboro  https://greensboro.craigslist.org   4900   NaN   \n",
              "\n",
              "  manufacturer model condition cylinders  ... size  type paint_color  \\\n",
              "0          NaN   NaN       NaN       NaN  ...  NaN   NaN         NaN   \n",
              "1          NaN   NaN       NaN       NaN  ...  NaN   NaN         NaN   \n",
              "2          NaN   NaN       NaN       NaN  ...  NaN   NaN         NaN   \n",
              "3          NaN   NaN       NaN       NaN  ...  NaN   NaN         NaN   \n",
              "4          NaN   NaN       NaN       NaN  ...  NaN   NaN         NaN   \n",
              "\n",
              "  image_url description county state lat long posting_date  \n",
              "0       NaN         NaN    NaN    az NaN  NaN          NaN  \n",
              "1       NaN         NaN    NaN    ar NaN  NaN          NaN  \n",
              "2       NaN         NaN    NaN    fl NaN  NaN          NaN  \n",
              "3       NaN         NaN    NaN    ma NaN  NaN          NaN  \n",
              "4       NaN         NaN    NaN    nc NaN  NaN          NaN  \n",
              "\n",
              "[5 rows x 26 columns]"
            ]
          },
          "execution_count": 4,
          "metadata": {},
          "output_type": "execute_result"
        }
      ],
      "source": [
        "import pandas as pd\n",
        "\n",
        "file_path = './vehicles.csv' # ruta al archivo CSV\n",
        "df = pd.read_csv(file_path) # leer el archivo CSV y conseguir un dataframe\n",
        "df.head() # mostrar los primeros 5 valores"
      ]
    },
    {
      "cell_type": "markdown",
      "metadata": {
        "id": "4rcGhx_aySRu"
      },
      "source": [
        "2. Verificar la integridad de los datos en las columnas. Esto se hace para verificar que tan buena es la calidad del dataset. Keggle, la pagina web desde donde se descargo el datase, muestra un repote de la integridad de los datos de cada columna, pero para compemenar el analisis, se realiza con el siguiente codigo:"
      ]
    },
    {
      "cell_type": "code",
      "execution_count": 5,
      "metadata": {
        "colab": {
          "base_uri": "https://localhost:8080/"
        },
        "id": "WZKwXPhCx9kF",
        "outputId": "5c1eef50-3690-4b62-a382-f2d86d8414f8"
      },
      "outputs": [
        {
          "name": "stdout",
          "output_type": "stream",
          "text": [
            "Integridad de los datos por columna:\n",
            "Columna id: 100.0% -> 0/426880\n",
            "Columna url: 100.0% -> 0/426880\n",
            "Columna region: 100.0% -> 0/426880\n",
            "Columna region_url: 100.0% -> 0/426880\n",
            "Columna price: 100.0% -> 0/426880\n",
            "Columna year: 99.72% -> 1205/426880\n",
            "Columna manufacturer: 95.87% -> 17646/426880\n",
            "Columna model: 98.76% -> 5277/426880\n",
            "Columna condition: 59.21% -> 174104/426880\n",
            "Columna cylinders: 58.38% -> 177678/426880\n",
            "Columna fuel: 99.29% -> 3013/426880\n",
            "Columna odometer: 98.97% -> 4400/426880\n",
            "Columna title_status: 98.07% -> 8242/426880\n",
            "Columna transmission: 99.4% -> 2556/426880\n",
            "Columna VIN: 62.27% -> 161042/426880\n",
            "Columna drive: 69.41% -> 130567/426880\n",
            "Columna size: 28.23% -> 306361/426880\n",
            "Columna type: 78.25% -> 92858/426880\n",
            "Columna paint_color: 69.5% -> 130203/426880\n",
            "Columna image_url: 99.98% -> 68/426880\n",
            "Columna description: 99.98% -> 70/426880\n",
            "Columna county: 0.0% -> 426880/426880\n",
            "Columna state: 100.0% -> 0/426880\n",
            "Columna lat: 98.47% -> 6549/426880\n",
            "Columna long: 98.47% -> 6549/426880\n",
            "Columna posting_date: 99.98% -> 68/426880\n"
          ]
        }
      ],
      "source": [
        "# Función para calcular el porcentaje de integridad de cada columna\n",
        "def column_integrity_simple(df):\n",
        "    for col in df.columns:\n",
        "        total_rows = len(df)\n",
        "        non_null_count = df[col].notna().sum()\n",
        "        integrity_percentage = (non_null_count / total_rows) * 100\n",
        "        print(f\"Columna {col}: {round(integrity_percentage, 2)}% -> {total_rows - non_null_count}/{total_rows}\")\n",
        "\n",
        "# Ejecutar el análisis de integridad simple\n",
        "print(\"Integridad de los datos por columna:\")\n",
        "column_integrity_simple(df)"
      ]
    },
    {
      "cell_type": "code",
      "execution_count": 6,
      "metadata": {
        "colab": {
          "base_uri": "https://localhost:8080/",
          "height": 899
        },
        "id": "ygxTWLartqjd",
        "outputId": "51a8e6f3-b5a8-463f-8ba2-4041db5d577e"
      },
      "outputs": [
        {
          "data": {
            "text/plain": [
              "id                   0\n",
              "url                  0\n",
              "region               0\n",
              "region_url           0\n",
              "price                0\n",
              "year              1205\n",
              "manufacturer     17646\n",
              "model             5277\n",
              "condition       174104\n",
              "cylinders       177678\n",
              "fuel              3013\n",
              "odometer          4400\n",
              "title_status      8242\n",
              "transmission      2556\n",
              "VIN             161042\n",
              "drive           130567\n",
              "size            306361\n",
              "type             92858\n",
              "paint_color     130203\n",
              "image_url           68\n",
              "description         70\n",
              "county          426880\n",
              "state                0\n",
              "lat               6549\n",
              "long              6549\n",
              "posting_date        68\n",
              "dtype: int64"
            ]
          },
          "execution_count": 6,
          "metadata": {},
          "output_type": "execute_result"
        }
      ],
      "source": [
        "df.isna().sum()"
      ]
    },
    {
      "cell_type": "code",
      "execution_count": 7,
      "metadata": {
        "colab": {
          "base_uri": "https://localhost:8080/"
        },
        "id": "lq11bnaTd2RH",
        "outputId": "ee57c28c-4a65-49db-da0c-b4b1e691bf24"
      },
      "outputs": [
        {
          "name": "stdout",
          "output_type": "stream",
          "text": [
            "<class 'pandas.core.frame.DataFrame'>\n",
            "RangeIndex: 426880 entries, 0 to 426879\n",
            "Data columns (total 26 columns):\n",
            " #   Column        Non-Null Count   Dtype  \n",
            "---  ------        --------------   -----  \n",
            " 0   id            426880 non-null  int64  \n",
            " 1   url           426880 non-null  object \n",
            " 2   region        426880 non-null  object \n",
            " 3   region_url    426880 non-null  object \n",
            " 4   price         426880 non-null  int64  \n",
            " 5   year          425675 non-null  float64\n",
            " 6   manufacturer  409234 non-null  object \n",
            " 7   model         421603 non-null  object \n",
            " 8   condition     252776 non-null  object \n",
            " 9   cylinders     249202 non-null  object \n",
            " 10  fuel          423867 non-null  object \n",
            " 11  odometer      422480 non-null  float64\n",
            " 12  title_status  418638 non-null  object \n",
            " 13  transmission  424324 non-null  object \n",
            " 14  VIN           265838 non-null  object \n",
            " 15  drive         296313 non-null  object \n",
            " 16  size          120519 non-null  object \n",
            " 17  type          334022 non-null  object \n",
            " 18  paint_color   296677 non-null  object \n",
            " 19  image_url     426812 non-null  object \n",
            " 20  description   426810 non-null  object \n",
            " 21  county        0 non-null       float64\n",
            " 22  state         426880 non-null  object \n",
            " 23  lat           420331 non-null  float64\n",
            " 24  long          420331 non-null  float64\n",
            " 25  posting_date  426812 non-null  object \n",
            "dtypes: float64(5), int64(2), object(19)\n",
            "memory usage: 84.7+ MB\n"
          ]
        }
      ],
      "source": [
        "df.info()"
      ]
    },
    {
      "cell_type": "code",
      "execution_count": 8,
      "metadata": {
        "colab": {
          "base_uri": "https://localhost:8080/",
          "height": 300
        },
        "id": "1qMl-wMpTGYE",
        "outputId": "b700874f-6607-4017-f7cd-21e6814f4670"
      },
      "outputs": [
        {
          "data": {
            "text/html": [
              "<div>\n",
              "<style scoped>\n",
              "    .dataframe tbody tr th:only-of-type {\n",
              "        vertical-align: middle;\n",
              "    }\n",
              "\n",
              "    .dataframe tbody tr th {\n",
              "        vertical-align: top;\n",
              "    }\n",
              "\n",
              "    .dataframe thead th {\n",
              "        text-align: right;\n",
              "    }\n",
              "</style>\n",
              "<table border=\"1\" class=\"dataframe\">\n",
              "  <thead>\n",
              "    <tr style=\"text-align: right;\">\n",
              "      <th></th>\n",
              "      <th>id</th>\n",
              "      <th>price</th>\n",
              "      <th>year</th>\n",
              "      <th>odometer</th>\n",
              "      <th>county</th>\n",
              "      <th>lat</th>\n",
              "      <th>long</th>\n",
              "    </tr>\n",
              "  </thead>\n",
              "  <tbody>\n",
              "    <tr>\n",
              "      <th>count</th>\n",
              "      <td>4.268800e+05</td>\n",
              "      <td>4.268800e+05</td>\n",
              "      <td>425675.000000</td>\n",
              "      <td>4.224800e+05</td>\n",
              "      <td>0.0</td>\n",
              "      <td>420331.000000</td>\n",
              "      <td>420331.000000</td>\n",
              "    </tr>\n",
              "    <tr>\n",
              "      <th>mean</th>\n",
              "      <td>7.311487e+09</td>\n",
              "      <td>7.519903e+04</td>\n",
              "      <td>2011.235191</td>\n",
              "      <td>9.804333e+04</td>\n",
              "      <td>NaN</td>\n",
              "      <td>38.493940</td>\n",
              "      <td>-94.748599</td>\n",
              "    </tr>\n",
              "    <tr>\n",
              "      <th>std</th>\n",
              "      <td>4.473170e+06</td>\n",
              "      <td>1.218228e+07</td>\n",
              "      <td>9.452120</td>\n",
              "      <td>2.138815e+05</td>\n",
              "      <td>NaN</td>\n",
              "      <td>5.841533</td>\n",
              "      <td>18.365462</td>\n",
              "    </tr>\n",
              "    <tr>\n",
              "      <th>min</th>\n",
              "      <td>7.207408e+09</td>\n",
              "      <td>0.000000e+00</td>\n",
              "      <td>1900.000000</td>\n",
              "      <td>0.000000e+00</td>\n",
              "      <td>NaN</td>\n",
              "      <td>-84.122245</td>\n",
              "      <td>-159.827728</td>\n",
              "    </tr>\n",
              "    <tr>\n",
              "      <th>25%</th>\n",
              "      <td>7.308143e+09</td>\n",
              "      <td>5.900000e+03</td>\n",
              "      <td>2008.000000</td>\n",
              "      <td>3.770400e+04</td>\n",
              "      <td>NaN</td>\n",
              "      <td>34.601900</td>\n",
              "      <td>-111.939847</td>\n",
              "    </tr>\n",
              "    <tr>\n",
              "      <th>50%</th>\n",
              "      <td>7.312621e+09</td>\n",
              "      <td>1.395000e+04</td>\n",
              "      <td>2013.000000</td>\n",
              "      <td>8.554800e+04</td>\n",
              "      <td>NaN</td>\n",
              "      <td>39.150100</td>\n",
              "      <td>-88.432600</td>\n",
              "    </tr>\n",
              "    <tr>\n",
              "      <th>75%</th>\n",
              "      <td>7.315254e+09</td>\n",
              "      <td>2.648575e+04</td>\n",
              "      <td>2017.000000</td>\n",
              "      <td>1.335425e+05</td>\n",
              "      <td>NaN</td>\n",
              "      <td>42.398900</td>\n",
              "      <td>-80.832039</td>\n",
              "    </tr>\n",
              "    <tr>\n",
              "      <th>max</th>\n",
              "      <td>7.317101e+09</td>\n",
              "      <td>3.736929e+09</td>\n",
              "      <td>2022.000000</td>\n",
              "      <td>1.000000e+07</td>\n",
              "      <td>NaN</td>\n",
              "      <td>82.390818</td>\n",
              "      <td>173.885502</td>\n",
              "    </tr>\n",
              "  </tbody>\n",
              "</table>\n",
              "</div>"
            ],
            "text/plain": [
              "                 id         price           year      odometer  county  \\\n",
              "count  4.268800e+05  4.268800e+05  425675.000000  4.224800e+05     0.0   \n",
              "mean   7.311487e+09  7.519903e+04    2011.235191  9.804333e+04     NaN   \n",
              "std    4.473170e+06  1.218228e+07       9.452120  2.138815e+05     NaN   \n",
              "min    7.207408e+09  0.000000e+00    1900.000000  0.000000e+00     NaN   \n",
              "25%    7.308143e+09  5.900000e+03    2008.000000  3.770400e+04     NaN   \n",
              "50%    7.312621e+09  1.395000e+04    2013.000000  8.554800e+04     NaN   \n",
              "75%    7.315254e+09  2.648575e+04    2017.000000  1.335425e+05     NaN   \n",
              "max    7.317101e+09  3.736929e+09    2022.000000  1.000000e+07     NaN   \n",
              "\n",
              "                 lat           long  \n",
              "count  420331.000000  420331.000000  \n",
              "mean       38.493940     -94.748599  \n",
              "std         5.841533      18.365462  \n",
              "min       -84.122245    -159.827728  \n",
              "25%        34.601900    -111.939847  \n",
              "50%        39.150100     -88.432600  \n",
              "75%        42.398900     -80.832039  \n",
              "max        82.390818     173.885502  "
            ]
          },
          "execution_count": 8,
          "metadata": {},
          "output_type": "execute_result"
        }
      ],
      "source": [
        "df.describe()"
      ]
    },
    {
      "cell_type": "code",
      "execution_count": 9,
      "metadata": {
        "colab": {
          "base_uri": "https://localhost:8080/",
          "height": 899
        },
        "id": "5F0otZGrvUHn",
        "outputId": "a1cbd74f-7576-4ad9-8f45-0eb02a04622c"
      },
      "outputs": [
        {
          "data": {
            "text/plain": [
              "id                   0\n",
              "url                  0\n",
              "region               0\n",
              "region_url           0\n",
              "price                0\n",
              "year                 0\n",
              "manufacturer         0\n",
              "model                0\n",
              "condition            0\n",
              "cylinders            0\n",
              "fuel                 0\n",
              "odometer             0\n",
              "title_status         0\n",
              "transmission         0\n",
              "VIN             161042\n",
              "drive                0\n",
              "size                 0\n",
              "type                 0\n",
              "paint_color          0\n",
              "image_url           68\n",
              "description         70\n",
              "county          426880\n",
              "state                0\n",
              "lat               6549\n",
              "long              6549\n",
              "posting_date        68\n",
              "dtype: int64"
            ]
          },
          "execution_count": 9,
          "metadata": {},
          "output_type": "execute_result"
        }
      ],
      "source": [
        "# Completamos los datos faltantes en las columnas de tipo object/string\n",
        "columnas_editar = (\"manufacturer\",\"model\",\"condition\",\n",
        "                   \"cylinders\",\"fuel\",\"title_status\",\n",
        "                   \"transmission\",\"drive\", \"size\", \"type\",\n",
        "                   \"paint_color\")\n",
        "for columna in columnas_editar:\n",
        "    df[columna] = df[columna].fillna(\"uknown\")\n",
        "\n",
        "# Completamos los datos faltantes en las columnas de tipo number\n",
        "df[\"year\"] = df[\"year\"].fillna(df[\"year\"].mean())\n",
        "df[\"odometer\"] = df[\"odometer\"].fillna(df[\"odometer\"].mean())\n",
        "\n",
        "# Mostrar que los datos fueron modificados en el dataframe\n",
        "df.isna().sum()"
      ]
    },
    {
      "cell_type": "markdown",
      "metadata": {
        "id": "qfCZNtLizh9H"
      },
      "source": [
        "Hay columnas que no fueron completadas porque no es necesario hacerlo por el tipo de dato que representan. Por ejemplo, VIN es la patente o un identificador unico del vehoiculo. Sin embargo, no son datos que sean relevantes para la contrastación de la hipotesis y dificilmente sean usados en futuros análisis. Como así tambien la ubicacion precisa de donde se realizo el posteo, es decir \"lat\" y \"lon\"."
      ]
    },
    {
      "cell_type": "markdown",
      "metadata": {
        "id": "o9IIKsIOxR9s"
      },
      "source": [
        "## **CONTRASTACIÓN DE LAS HIPÓTESIS**\n",
        "#### Hipótesis 1:\n",
        "- *''Los vehículos con valores en el odómetro más bajo se venden exponencialmente más caros''*\n",
        "\n",
        "Primero, se consigue las medidas de tendencia central y otras medidas complementarias. La MODA no se calcula, ya que los precios son variados y dificilmente se repitan."
      ]
    },
    {
      "cell_type": "code",
      "execution_count": null,
      "metadata": {
        "colab": {
          "base_uri": "https://localhost:8080/"
        },
        "id": "ty4zW7FdwHko",
        "outputId": "e7dcd895-908c-4329-e617-5b7bdf2709f8"
      },
      "outputs": [
        {
          "name": "stdout",
          "output_type": "stream",
          "text": [
            "Media: 98043.33\n",
            "Mediana: 85548.0\n",
            "Rango: 10000000.0\n",
            "Varianza: 45745296383.6\n",
            "Desvío estándar: 213881.5\n",
            "Percentil 25: 37704.0\n",
            "Percentil 50 (Mediana): 85548.0\n",
            "Percentil 75: 133542.5\n",
            "Valor mínimo: 0.0\n",
            "Valor máximo: 10000000.0\n"
          ]
        }
      ],
      "source": [
        "# Calcular estadísticas para la columna \"odometer\"\n",
        "odometer_stats = {\n",
        "    \"Media\": df[\"odometer\"].mean(),\n",
        "    \"Mediana\": df[\"odometer\"].median(),\n",
        "    \"Rango\": df[\"odometer\"].max() - df[\"odometer\"].min(),\n",
        "    \"Varianza\": df[\"odometer\"].var(),\n",
        "    \"Desvío estándar\": df[\"odometer\"].std(),\n",
        "    \"Percentil 25\": df[\"odometer\"].quantile(0.25),\n",
        "    \"Percentil 50 (Mediana)\": df[\"odometer\"].quantile(0.50),\n",
        "    \"Percentil 75\": df[\"odometer\"].quantile(0.75),\n",
        "    \"Valor mínimo\": df[\"odometer\"].min(),\n",
        "    \"Valor máximo\": df[\"odometer\"].max()\n",
        "}\n",
        "\n",
        "# Imprimir los resultados\n",
        "for key, value in odometer_stats.items():\n",
        "    print(f\"{key}: {round(value, 2)}\")"
      ]
    },
    {
      "cell_type": "code",
      "execution_count": null,
      "metadata": {
        "colab": {
          "base_uri": "https://localhost:8080/",
          "height": 1000
        },
        "id": "_NoDFaRo75Vo",
        "outputId": "30d2a4d5-27aa-4ba4-97cd-33cea6f1a0ce"
      },
      "outputs": [
        {
          "ename": "ValueError",
          "evalue": "levels must be in [0, 1]",
          "output_type": "error",
          "traceback": [
            "\u001b[0;31m---------------------------------------------------------------------------\u001b[0m",
            "\u001b[0;31mValueError\u001b[0m                                Traceback (most recent call last)",
            "\u001b[0;32m<ipython-input-3-ed29cddf2f85>\u001b[0m in \u001b[0;36m<cell line: 0>\u001b[0;34m()\u001b[0m\n\u001b[1;32m     18\u001b[0m \u001b[0mlevels\u001b[0m \u001b[0;34m=\u001b[0m \u001b[0mnp\u001b[0m\u001b[0;34m.\u001b[0m\u001b[0mlinspace\u001b[0m\u001b[0;34m(\u001b[0m\u001b[0mdf_clean\u001b[0m\u001b[0;34m[\u001b[0m\u001b[0;34m\"price\"\u001b[0m\u001b[0;34m]\u001b[0m\u001b[0;34m.\u001b[0m\u001b[0mmin\u001b[0m\u001b[0;34m(\u001b[0m\u001b[0;34m)\u001b[0m\u001b[0;34m,\u001b[0m \u001b[0mdf_clean\u001b[0m\u001b[0;34m[\u001b[0m\u001b[0;34m\"price\"\u001b[0m\u001b[0;34m]\u001b[0m\u001b[0;34m.\u001b[0m\u001b[0mmax\u001b[0m\u001b[0;34m(\u001b[0m\u001b[0;34m)\u001b[0m\u001b[0;34m,\u001b[0m \u001b[0;36m10\u001b[0m\u001b[0;34m)\u001b[0m  \u001b[0;31m# 10 levels between min and max price\u001b[0m\u001b[0;34m\u001b[0m\u001b[0;34m\u001b[0m\u001b[0m\n\u001b[1;32m     19\u001b[0m \u001b[0;31m# Plot using the calculated levels:\u001b[0m\u001b[0;34m\u001b[0m\u001b[0;34m\u001b[0m\u001b[0m\n\u001b[0;32m---> 20\u001b[0;31m \u001b[0msns\u001b[0m\u001b[0;34m.\u001b[0m\u001b[0mkdeplot\u001b[0m\u001b[0;34m(\u001b[0m\u001b[0mx\u001b[0m\u001b[0;34m=\u001b[0m\u001b[0mdf_clean\u001b[0m\u001b[0;34m[\u001b[0m\u001b[0;34m\"odometer\"\u001b[0m\u001b[0;34m]\u001b[0m\u001b[0;34m,\u001b[0m \u001b[0my\u001b[0m\u001b[0;34m=\u001b[0m\u001b[0mdf_clean\u001b[0m\u001b[0;34m[\u001b[0m\u001b[0;34m\"price\"\u001b[0m\u001b[0;34m]\u001b[0m\u001b[0;34m,\u001b[0m \u001b[0mcolor\u001b[0m\u001b[0;34m=\u001b[0m\u001b[0;34m\"red\"\u001b[0m\u001b[0;34m,\u001b[0m \u001b[0mlinewidth\u001b[0m\u001b[0;34m=\u001b[0m\u001b[0;36m2\u001b[0m\u001b[0;34m,\u001b[0m \u001b[0mlevels\u001b[0m\u001b[0;34m=\u001b[0m\u001b[0mlevels\u001b[0m\u001b[0;34m)\u001b[0m\u001b[0;34m\u001b[0m\u001b[0;34m\u001b[0m\u001b[0m\n\u001b[0m\u001b[1;32m     21\u001b[0m \u001b[0;34m\u001b[0m\u001b[0m\n\u001b[1;32m     22\u001b[0m \u001b[0;31m# Etiquetas y título\u001b[0m\u001b[0;34m\u001b[0m\u001b[0;34m\u001b[0m\u001b[0m\n",
            "\u001b[0;32m/usr/local/lib/python3.11/dist-packages/seaborn/distributions.py\u001b[0m in \u001b[0;36mkdeplot\u001b[0;34m(data, x, y, hue, weights, palette, hue_order, hue_norm, color, fill, multiple, common_norm, common_grid, cumulative, bw_method, bw_adjust, warn_singular, log_scale, levels, thresh, gridsize, cut, clip, legend, cbar, cbar_ax, cbar_kws, ax, **kwargs)\u001b[0m\n\u001b[1;32m   1713\u001b[0m     \u001b[0;32melse\u001b[0m\u001b[0;34m:\u001b[0m\u001b[0;34m\u001b[0m\u001b[0;34m\u001b[0m\u001b[0m\n\u001b[1;32m   1714\u001b[0m \u001b[0;34m\u001b[0m\u001b[0m\n\u001b[0;32m-> 1715\u001b[0;31m         p.plot_bivariate_density(\n\u001b[0m\u001b[1;32m   1716\u001b[0m             \u001b[0mcommon_norm\u001b[0m\u001b[0;34m=\u001b[0m\u001b[0mcommon_norm\u001b[0m\u001b[0;34m,\u001b[0m\u001b[0;34m\u001b[0m\u001b[0;34m\u001b[0m\u001b[0m\n\u001b[1;32m   1717\u001b[0m             \u001b[0mfill\u001b[0m\u001b[0;34m=\u001b[0m\u001b[0mfill\u001b[0m\u001b[0;34m,\u001b[0m\u001b[0;34m\u001b[0m\u001b[0;34m\u001b[0m\u001b[0m\n",
            "\u001b[0;32m/usr/local/lib/python3.11/dist-packages/seaborn/distributions.py\u001b[0m in \u001b[0;36mplot_bivariate_density\u001b[0;34m(self, common_norm, fill, levels, thresh, color, legend, cbar, warn_singular, cbar_ax, cbar_kws, estimate_kws, **contour_kws)\u001b[0m\n\u001b[1;32m   1107\u001b[0m         \u001b[0;32melse\u001b[0m\u001b[0;34m:\u001b[0m\u001b[0;34m\u001b[0m\u001b[0;34m\u001b[0m\u001b[0m\n\u001b[1;32m   1108\u001b[0m             \u001b[0;32mif\u001b[0m \u001b[0mmin\u001b[0m\u001b[0;34m(\u001b[0m\u001b[0mlevels\u001b[0m\u001b[0;34m)\u001b[0m \u001b[0;34m<\u001b[0m \u001b[0;36m0\u001b[0m \u001b[0;32mor\u001b[0m \u001b[0mmax\u001b[0m\u001b[0;34m(\u001b[0m\u001b[0mlevels\u001b[0m\u001b[0;34m)\u001b[0m \u001b[0;34m>\u001b[0m \u001b[0;36m1\u001b[0m\u001b[0;34m:\u001b[0m\u001b[0;34m\u001b[0m\u001b[0;34m\u001b[0m\u001b[0m\n\u001b[0;32m-> 1109\u001b[0;31m                 \u001b[0;32mraise\u001b[0m \u001b[0mValueError\u001b[0m\u001b[0;34m(\u001b[0m\u001b[0;34m\"levels must be in [0, 1]\"\u001b[0m\u001b[0;34m)\u001b[0m\u001b[0;34m\u001b[0m\u001b[0;34m\u001b[0m\u001b[0m\n\u001b[0m\u001b[1;32m   1110\u001b[0m \u001b[0;34m\u001b[0m\u001b[0m\n\u001b[1;32m   1111\u001b[0m         \u001b[0;31m# Transform from iso-proportions to iso-densities\u001b[0m\u001b[0;34m\u001b[0m\u001b[0;34m\u001b[0m\u001b[0m\n",
            "\u001b[0;31mValueError\u001b[0m: levels must be in [0, 1]"
          ]
        },
        {
          "data": {
            "image/png": "[encoded data removed]",
            "text/plain": [
              "<Figure size 1500x1000 with 1 Axes>"
            ]
          },
          "metadata": {},
          "output_type": "display_data"
        }
      ],
      "source": [
        "import pandas as pd\n",
        "import matplotlib.pyplot as plt\n",
        "import seaborn as sns\n",
        "import numpy as np\n",
        "\n",
        "# Asegurar que las columnas sean numéricas y eliminar valores NaN\n",
        "df[\"odometer\"] = pd.to_numeric(df[\"odometer\"], errors='coerce')\n",
        "df[\"price\"] = pd.to_numeric(df[\"price\"], errors='coerce')\n",
        "\n",
        "# Filtrar valores no nulos\n",
        "df_clean = df.dropna(subset=[\"odometer\", \"price\"])\n",
        "\n",
        "# Crear el gráfico\n",
        "plt.figure(figsize=(15, 10))\n",
        "#sns.histplot(df_clean, x=\"odometer\", y=\"price\", bins=50, pthresh=0.1, cmap=\"Blues\")\n",
        "\n",
        "# using numpy.linspace to ensure they are strictly increasing:\n",
        "levels = np.linspace(df_clean[\"price\"].min(), df_clean[\"price\"].max(), 10)  # 10 levels between min and max price\n",
        "# Plot using the calculated levels:\n",
        "sns.kdeplot(x=df_clean[\"odometer\"], y=df_clean[\"price\"], color=\"red\", linewidth=2, levels=levels)\n",
        "\n",
        "# Etiquetas y título\n",
        "plt.title(\"Relación entre Odómetro y Precio de Venta\")\n",
        "plt.xlabel(\"Odómetro (millas)\")\n",
        "plt.ylabel(\"Precio (USD)\")\n",
        "\n",
        "# Mostrar el gráfico\n",
        "plt.show()"
      ]
    },
    {
      "cell_type": "code",
      "execution_count": null,
      "metadata": {
        "colab": {
          "base_uri": "https://localhost:8080/"
        },
        "id": "kiRdXEOx_Lqm",
        "outputId": "8720782d-08c9-488a-82fe-7f0e4c1b5b66"
      },
      "outputs": [
        {
          "name": "stdout",
          "output_type": "stream",
          "text": [
            "La correlación entre odómetro y precio es: 0.01\n"
          ]
        }
      ],
      "source": [
        "correlacion = df[\"odometer\"].corr(df[\"price\"])\n",
        "print(f\"La correlación entre odómetro y precio es: {round(correlacion, 2)}\")"
      ]
    }
  ],
  "metadata": {
    "colab": {
      "provenance": []
    },
    "kernelspec": {
      "display_name": "Python 3",
      "name": "python3"
    },
    "language_info": {
      "codemirror_mode": {
        "name": "ipython",
        "version": 3
      },
      "file_extension": ".py",
      "mimetype": "text/x-python",
      "name": "python",
      "nbconvert_exporter": "python",
      "pygments_lexer": "ipython3",
      "version": "3.13.1"
    }
  },
  "nbformat": 4,
  "nbformat_minor": 0
}
